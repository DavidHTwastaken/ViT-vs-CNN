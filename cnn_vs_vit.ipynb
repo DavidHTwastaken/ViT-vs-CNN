{
 "cells": [
  {
   "cell_type": "markdown",
   "metadata": {},
   "source": [
    "# Convolutional Neural Network vs. Vision Transformer for Image Classification"
   ]
  },
  {
   "cell_type": "markdown",
   "metadata": {},
   "source": [
    "## Setup"
   ]
  },
  {
   "cell_type": "markdown",
   "metadata": {},
   "source": [
    "### Imports and Models"
   ]
  },
  {
   "cell_type": "code",
   "execution_count": 118,
   "metadata": {},
   "outputs": [],
   "source": [
    "import numpy as np\n",
    "import PIL\n",
    "import torch\n",
    "from torch.utils.data import DataLoader\n",
    "import os\n",
    "import pandas as pd\n",
    "from transformers import ViTImageProcessor, ViTForImageClassification, BitImageProcessor, BitForImageClassification\n",
    "import time\n",
    "\n",
    "# Both ViT and BiT models classify images into one of 1000 classes from ImageNet\n",
    "processor = ViTImageProcessor.from_pretrained('google/vit-base-patch16-224')\n",
    "vit_model = ViTForImageClassification.from_pretrained(\n",
    "    'google/vit-base-patch16-224')\n",
    "feature_extractor = BitImageProcessor.from_pretrained(\"google/bit-50\")\n",
    "bit_model = BitForImageClassification.from_pretrained(\"google/bit-50\")"
   ]
  },
  {
   "cell_type": "markdown",
   "metadata": {},
   "source": [
    "### Dataset"
   ]
  },
  {
   "cell_type": "code",
   "execution_count": 119,
   "metadata": {},
   "outputs": [],
   "source": [
    "class ImageNetDataset(torch.utils.data.Dataset):\n",
    "    def __init__(self, root_dir, annotations_file, transform=None):\n",
    "        self.root_dir = root_dir\n",
    "        self.transform = transform\n",
    "        self.labels = pd.read_csv(\n",
    "            os.path.join(root_dir, annotations_file), \n",
    "            sep=',', header=0, usecols=[0, 1],\n",
    "            names=['image', 'label'])\n",
    "        self.labels['label'] = self.labels['label'].str.split().str[0]\n",
    "        one_hot = pd.read_csv(\n",
    "            os.path.join(root_dir, 'LOC_synset_mapping.txt'), \n",
    "            sep=' ', header=None, usecols=[0], names=['label']).reset_index().set_index('label')['index']\n",
    "        self.labels['label'] = self.labels['label'].map(one_hot)\n",
    "\n",
    "    def __len__(self):\n",
    "        return len(self.labels)\n",
    "\n",
    "    def __getitem__(self, idx):\n",
    "        image_path = self.labels.loc[idx, 'image'] + '.JPEG'\n",
    "        image = PIL.Image.open(os.path.join(self.root_dir, 'images', image_path)).convert('RGB')\n",
    "        if self.transform:\n",
    "            image = self.transform(images=image, return_tensors=\"pt\")['pixel_values'].squeeze(0)\n",
    "        return image, torch.tensor(self.labels.loc[idx, 'label'])"
   ]
  },
  {
   "cell_type": "code",
   "execution_count": 120,
   "metadata": {},
   "outputs": [],
   "source": [
    "class TinyImageNetDataset(torch.utils.data.Dataset):\n",
    "    def __init__(self, root_dir, transform=None):\n",
    "        self.root_dir = root_dir\n",
    "        self.transform = transform\n",
    "        self.labels = pd.read_csv(\n",
    "            os.path.join(root_dir, 'val_annotations.txt'),\n",
    "            sep='\\t', header=None, usecols=[0, 1],\n",
    "            names=['image', 'label'])\n",
    "        self.labels['label'] = self.labels['label'].str.split().str[0]\n",
    "        one_hot = pd.read_csv(\n",
    "            os.path.join(root_dir, 'LOC_synset_mapping.txt'),\n",
    "            sep=' ', header=None, usecols=[0], names=['label']).reset_index().set_index('label')['index']\n",
    "        self.labels['label'] = self.labels['label'].map(one_hot)\n",
    "\n",
    "    def __len__(self):\n",
    "        return len(self.labels)\n",
    "\n",
    "    def __getitem__(self, idx):\n",
    "        image_path = self.labels.loc[idx, 'image']\n",
    "        image = PIL.Image.open(os.path.join(\n",
    "            self.root_dir, 'images', image_path)).convert('RGB')\n",
    "        if self.transform:\n",
    "            image = self.transform(images=image, return_tensors=\"pt\")[\n",
    "                'pixel_values'].squeeze(0)\n",
    "        return image, torch.tensor(self.labels.loc[idx, 'label'])"
   ]
  },
  {
   "cell_type": "markdown",
   "metadata": {},
   "source": [
    "### Functions and Loading Data"
   ]
  },
  {
   "cell_type": "code",
   "execution_count": 121,
   "metadata": {},
   "outputs": [],
   "source": [
    "# Returns the class index of the predicted class\n",
    "def classify(model, processor, image):\n",
    "    inputs = processor(images=image, return_tensors=\"pt\")\n",
    "    outputs = model(**inputs)\n",
    "    logits = outputs.logits\n",
    "    predicted_class_idx = logits.argmax(-1).item()\n",
    "    return predicted_class_idx\n",
    "\n",
    "\n",
    "def load_data(annotations, directory=os.path.join('tiny_imagenet', 'val')):\n",
    "    data = []\n",
    "    for root, dirs, files in os.walk(directory):\n",
    "        for file in files:\n",
    "            if file.endswith('.JPEG'):\n",
    "                img = PIL.Image.open(os.path.join(root, file))\n",
    "                data.append((img, ))\n",
    "    return data\n",
    "\n",
    "def load_annotations(directory=os.path.join('tiny_imagenet')):\n",
    "    filepath = os.path.join(directory, 'val', 'val_annotations.txt')\n",
    "    annotations = pd.read_csv(filepath, sep='\\t', header=None) \n",
    "    annotations = annotations.loc[:, [0, 1]].rename(\n",
    "        columns={0: 'filename', 1: 'wnid'})\n",
    "    classes = pd.read_csv(os.path.join(directory, 'words.txt'), sep='\\t', header=None).rename(columns={0: 'wnid', 1: 'class'})\n",
    "    annotations['class'] = annotations['wnid'].map(classes.set_index('wnid')['class'])\n",
    "    annotations.drop(columns=['wnid'], inplace=True)\n",
    "    return annotations\n",
    "\n",
    "annotations = load_annotations()"
   ]
  },
  {
   "cell_type": "markdown",
   "metadata": {},
   "source": [
    "## Demo"
   ]
  },
  {
   "cell_type": "code",
   "execution_count": 123,
   "metadata": {},
   "outputs": [
    {
     "data": {
      "image/jpeg": "[encoded data removed]",
      "image/png": "[encoded data removed]",
      "text/plain": [
       "<PIL.Image.Image image mode=RGB size=64x64>"
      ]
     },
     "metadata": {},
     "output_type": "display_data"
    }
   ],
   "source": [
    "# imgs, labels = next(iter(dataloader))\n",
    "data = TinyImageNetDataset(os.path.join('tiny_imagenet','val'))\n",
    "img, label = data[0]\n",
    "display(img)"
   ]
  },
  {
   "cell_type": "code",
   "execution_count": 124,
   "metadata": {},
   "outputs": [
    {
     "name": "stdout",
     "output_type": "stream",
     "text": [
      "ViT prediction: go-kart\n",
      "BiT prediction: go-kart\n",
      "Ground truth: go-kart\n"
     ]
    }
   ],
   "source": [
    "vit_pred_idx = classify(vit_model, processor, img)\n",
    "print(\"ViT prediction:\", vit_model.config.id2label[vit_pred_idx])\n",
    "bit_pred_idx = classify(bit_model, feature_extractor, img)\n",
    "print(\"BiT prediction:\", bit_model.config.id2label[bit_pred_idx])\n",
    "ground_truth = annotations.loc[0 , 'class']\n",
    "print(\"Ground truth:\", ground_truth)"
   ]
  },
  {
   "cell_type": "markdown",
   "metadata": {},
   "source": [
    "## Analysis"
   ]
  },
  {
   "cell_type": "markdown",
   "metadata": {},
   "source": [
    "### Tiny ImageNet\n",
    "- subset of ImageNet-1k\n",
    "- contains 10,000 images and only 200 of the original 1000 classes"
   ]
  },
  {
   "cell_type": "code",
   "execution_count": 125,
   "metadata": {},
   "outputs": [
    {
     "data": {
      "text/plain": [
       "filename    10000\n",
       "class         200\n",
       "dtype: int64"
      ]
     },
     "execution_count": 125,
     "metadata": {},
     "output_type": "execute_result"
    }
   ],
   "source": [
    "annotations.nunique(0)"
   ]
  },
  {
   "cell_type": "code",
   "execution_count": 126,
   "metadata": {},
   "outputs": [
    {
     "name": "stdout",
     "output_type": "stream",
     "text": [
      "Time taken: 1880.94\n",
      "Time taken: 2881.25\n",
      "ViT Accuracy: 62.07\n",
      "BiT Accuracy: 33.19\n"
     ]
    }
   ],
   "source": [
    "data_dir = os.path.join('tiny_imagenet', 'val')\n",
    "vit_dataloader = DataLoader(TinyImageNetDataset(data_dir, transform=processor), batch_size=64)\n",
    "bit_dataloader = DataLoader(TinyImageNetDataset(data_dir, transform=feature_extractor), batch_size=64)\n",
    "\n",
    "def get_accuracy(model, dataloader):\n",
    "    correct = 0\n",
    "    total = len(dataloader.dataset)\n",
    "    start = time.time()\n",
    "    with torch.no_grad():\n",
    "        for imgs, labels in dataloader:\n",
    "            outputs = model(imgs)\n",
    "            pred = outputs.logits.argmax(-1)\n",
    "            correct += (pred == labels).sum().item()\n",
    "    print(f\"Time taken: {time.time()-start:.2f}\")\n",
    "    return correct / total\n",
    "vit_accuracy = get_accuracy(vit_model, vit_dataloader)\n",
    "bit_accuracy = get_accuracy(bit_model, bit_dataloader)\n",
    "print(f\"ViT Accuracy: {vit_accuracy*100:.2f}\")\n",
    "print(f\"BiT Accuracy: {bit_accuracy*100:.2f}\")\n",
    "    "
   ]
  },
  {
   "cell_type": "markdown",
   "metadata": {},
   "source": [
    "### ImageNet"
   ]
  },
  {
   "cell_type": "code",
   "execution_count": 116,
   "metadata": {},
   "outputs": [
    {
     "name": "stdout",
     "output_type": "stream",
     "text": [
      "ViT Accuracy: 85.94\n",
      "BiT Accuracy: 84.90\n"
     ]
    }
   ],
   "source": [
    "data_dir = 'imagenet'\n",
    "annotations_file = 'LOC_val_solution.csv'\n",
    "vit_dataloader = DataLoader(ImageNetDataset(\n",
    "    data_dir, annotations_file, transform=processor), batch_size=64)\n",
    "bit_dataloader = DataLoader(ImageNetDataset(\n",
    "    data_dir, annotations_file, transform=feature_extractor), batch_size=64)\n",
    "\n",
    "\n",
    "def get_accuracy(model, dataloader):\n",
    "    correct = 0\n",
    "    total = dataloader.batch_size * 3\n",
    "    with torch.no_grad():\n",
    "        i = 0\n",
    "        for imgs, labels in dataloader:\n",
    "            if i > 2:\n",
    "                break\n",
    "            outputs = model(imgs)\n",
    "            pred = outputs.logits.argmax(-1)\n",
    "            correct += (pred == labels).sum().item()\n",
    "            i += 1\n",
    "    return correct / total\n",
    "\n",
    "\n",
    "vit_accuracy = get_accuracy(vit_model, vit_dataloader)\n",
    "bit_accuracy = get_accuracy(bit_model, bit_dataloader)\n",
    "print(f\"ViT Accuracy: {vit_accuracy*100:.2f}\")\n",
    "print(f\"BiT Accuracy: {bit_accuracy*100:.2f}\")"
   ]
  }
 ],
 "metadata": {
  "kernelspec": {
   "display_name": "virtualenv",
   "language": "python",
   "name": "python3"
  },
  "language_info": {
   "codemirror_mode": {
    "name": "ipython",
    "version": 3
   },
   "file_extension": ".py",
   "mimetype": "text/x-python",
   "name": "python",
   "nbconvert_exporter": "python",
   "pygments_lexer": "ipython3",
   "version": "3.11.5"
  }
 },
 "nbformat": 4,
 "nbformat_minor": 2
}
