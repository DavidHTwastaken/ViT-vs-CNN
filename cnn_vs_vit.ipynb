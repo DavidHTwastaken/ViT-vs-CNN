{
 "cells": [
  {
   "cell_type": "markdown",
   "metadata": {},
   "source": [
    "# Convolutional Neural Network vs. Vision Transformer for Image Classification"
   ]
  },
  {
   "cell_type": "markdown",
   "metadata": {},
   "source": [
    "## Setup"
   ]
  },
  {
   "cell_type": "markdown",
   "metadata": {},
   "source": [
    "### Imports and Models"
   ]
  },
  {
   "cell_type": "code",
   "execution_count": 1,
   "metadata": {},
   "outputs": [
    {
     "name": "stderr",
     "output_type": "stream",
     "text": [
      "c:\\Users\\nikob\\Documents\\OTU_Schoolwork\\Machine_Learning_Theory_and_Applications\\final_project\\virtualenv\\Lib\\site-packages\\tqdm\\auto.py:21: TqdmWarning: IProgress not found. Please update jupyter and ipywidgets. See https://ipywidgets.readthedocs.io/en/stable/user_install.html\n",
      "  from .autonotebook import tqdm as notebook_tqdm\n"
     ]
    }
   ],
   "source": [
    "import numpy as np\n",
    "import PIL\n",
    "import torch\n",
    "import os\n",
    "import pandas as pd\n",
    "from transformers import ViTImageProcessor, ViTForImageClassification, BitImageProcessor, BitForImageClassification\n",
    "\n",
    "# Both ViT and BiT models classify images into one of 1000 classes from ImageNet\n",
    "processor = ViTImageProcessor.from_pretrained('google/vit-base-patch16-224')\n",
    "vit_model = ViTForImageClassification.from_pretrained(\n",
    "    'google/vit-base-patch16-224')\n",
    "feature_extractor = BitImageProcessor.from_pretrained(\"google/bit-50\")\n",
    "bit_model = BitForImageClassification.from_pretrained(\"google/bit-50\")"
   ]
  },
  {
   "cell_type": "markdown",
   "metadata": {},
   "source": [
    "### Functions"
   ]
  },
  {
   "cell_type": "code",
   "execution_count": 28,
   "metadata": {},
   "outputs": [],
   "source": [
    "# Returns the class index of the predicted class\n",
    "def classify(model, processor, image):\n",
    "    inputs = processor(images=image, return_tensors=\"pt\")\n",
    "    outputs = model(**inputs)\n",
    "    logits = outputs.logits\n",
    "    predicted_class_idx = logits.argmax(-1).item()\n",
    "    return predicted_class_idx\n",
    "\n",
    "def load_data(directory=os.path.join('tiny_imagenet', 'val')):\n",
    "    data = []\n",
    "    for root, dirs, files in os.walk(directory):\n",
    "        for file in files:\n",
    "            if file.endswith('.JPEG'):\n",
    "                img = PIL.Image.open(os.path.join(root, file))\n",
    "                data.append((img, ))\n",
    "    return data\n",
    "\n",
    "def load_annotations(directory=os.path.join('tiny_imagenet')):\n",
    "    filepath = os.path.join(directory, 'val', 'val_annotations.txt')\n",
    "    annotations = pd.read_csv(filepath, sep='\\t', header=None) \n",
    "    annotations = annotations.loc[:, [0, 1]].rename(\n",
    "        columns={0: 'filename', 1: 'wnid'})\n",
    "    classes = pd.read_csv(os.path.join(directory, 'words.txt'), sep='\\t', header=None).rename(columns={0: 'wnid', 1: 'class'})\n",
    "    annotations['class'] = annotations['wnid'].map(classes.set_index('wnid')['class'])\n",
    "    annotations.drop(columns=['wnid'], inplace=True)\n",
    "    return annotations"
   ]
  },
  {
   "cell_type": "markdown",
   "metadata": {},
   "source": [
    "## Demo"
   ]
  },
  {
   "cell_type": "code",
   "execution_count": 29,
   "metadata": {},
   "outputs": [
    {
     "data": {
      "image/jpeg": "[encoded data removed]",
      "image/png": "[encoded data removed]",
      "text/plain": [
       "<PIL.JpegImagePlugin.JpegImageFile image mode=RGB size=64x64>"
      ]
     },
     "metadata": {},
     "output_type": "display_data"
    }
   ],
   "source": [
    "img_name = 'val_89.JPEG'\n",
    "img = PIL.Image.open(os.path.normpath(f'tiny_imagenet/val/images/{img_name}'))\n",
    "display(img)"
   ]
  },
  {
   "cell_type": "code",
   "execution_count": 30,
   "metadata": {},
   "outputs": [
    {
     "name": "stdout",
     "output_type": "stream",
     "text": [
      "ViT prediction: brown bear, bruin, Ursus arctos\n",
      "BiT prediction: sloth bear, Melursus ursinus, Ursus ursinus\n",
      "Ground truth: brown bear, bruin, Ursus arctos\n"
     ]
    }
   ],
   "source": [
    "annotations = load_annotations()\n",
    "\n",
    "vit_pred_idx = classify(vit_model, processor, img)\n",
    "print(\"ViT prediction:\", vit_model.config.id2label[vit_pred_idx])\n",
    "bit_pred_idx = classify(bit_model, feature_extractor, img)\n",
    "print(\"BiT prediction:\", bit_model.config.id2label[bit_pred_idx])\n",
    "ground_truth = annotations.loc[annotations['filename'] == img_name, 'class'].values[0]\n",
    "print(\"Ground truth:\", ground_truth)"
   ]
  }
 ],
 "metadata": {
  "kernelspec": {
   "display_name": "virtualenv",
   "language": "python",
   "name": "python3"
  },
  "language_info": {
   "codemirror_mode": {
    "name": "ipython",
    "version": 3
   },
   "file_extension": ".py",
   "mimetype": "text/x-python",
   "name": "python",
   "nbconvert_exporter": "python",
   "pygments_lexer": "ipython3",
   "version": "3.11.5"
  }
 },
 "nbformat": 4,
 "nbformat_minor": 2
}
